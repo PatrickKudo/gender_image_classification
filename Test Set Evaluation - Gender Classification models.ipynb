{
 "cells": [
  {
   "cell_type": "markdown",
   "metadata": {},
   "source": [
    "# Test set evaluation of Gender image classification models\n",
    "\n",
    "## UTKFace dataset"
   ]
  },
  {
   "cell_type": "code",
   "execution_count": 1,
   "metadata": {},
   "outputs": [],
   "source": [
    "import pandas as pd\n",
    "import numpy as np\n",
    "import io\n",
    "import os\n",
    "import tensorflow as tf\n",
    "from sklearn.metrics import classification_report,confusion_matrix"
   ]
  },
  {
   "cell_type": "code",
   "execution_count": 8,
   "metadata": {},
   "outputs": [],
   "source": [
    "# UTKFace image directories (unsorted and sorted)\n",
    "TEST_DIR = 'UTKFace/'\n",
    "TEST_SORT_DIR = 'UTKFace sorted/'"
   ]
  },
  {
   "cell_type": "code",
   "execution_count": 4,
   "metadata": {},
   "outputs": [],
   "source": [
    "# labels - age, gender, ethnicity\n",
    "image_paths = []\n",
    "age_labels = []\n",
    "gender_labels = []\n",
    "\n",
    "for filename in os.listdir(TEST_DIR):\n",
    "    image_path = os.path.join(TEST_DIR, filename)\n",
    "    temp = filename.split('_')\n",
    "    age = int(temp[0])\n",
    "    gender = int(temp[1])\n",
    "    image_paths.append(image_path)\n",
    "    age_labels.append(age)\n",
    "    gender_labels.append(gender)"
   ]
  },
  {
   "cell_type": "code",
   "execution_count": 7,
   "metadata": {},
   "outputs": [],
   "source": [
    "# Move UTKFace images into unique directories based on their gender label\n",
    "# Need only to run once to organize\n",
    "m_dir = 'UTKFace sorted/male'\n",
    "f_dir = 'UTKFace sorted/female'\n",
    "\n",
    "import shutil\n",
    "\n",
    "for filename in os.listdir(TEST_DIR):\n",
    "    image_path = os.path.join(TEST_DIR, filename)\n",
    "    temp = filename.split('_')\n",
    "    gender = int(temp[1])\n",
    "    if gender == 0:                                # Move to Male folder\n",
    "        new_path = os.path.join(m_dir, filename)\n",
    "        shutil.move(image_path, new_path)\n",
    "    elif gender == 1:                              # Move to Female folder\n",
    "        new_path = os.path.join(f_dir, filename)\n",
    "        shutil.move(image_path, new_path)"
   ]
  },
  {
   "cell_type": "code",
   "execution_count": 9,
   "metadata": {},
   "outputs": [
    {
     "name": "stdout",
     "output_type": "stream",
     "text": [
      "Found 23708 files belonging to 2 classes.\n"
     ]
    }
   ],
   "source": [
    "test_ds = tf.keras.utils.image_dataset_from_directory(TEST_SORT_DIR, \n",
    "                                                      seed=123, \n",
    "                                                      batch_size=128)"
   ]
  },
  {
   "cell_type": "code",
   "execution_count": null,
   "metadata": {},
   "outputs": [],
   "source": [
    "# Prediction function\n",
    "\n",
    "def run_predict()\n",
    "# Evaluate the model\n",
    "loss, acc = model.evaluate(test_images, test_labels, verbose=2)\n",
    "\n",
    "print(classification_report(train_labels,train_predictions_rounded_labels)) "
   ]
  },
  {
   "cell_type": "markdown",
   "metadata": {},
   "source": [
    "## VGG-16"
   ]
  },
  {
   "cell_type": "markdown",
   "metadata": {},
   "source": [
    "### Model 1b-gs: Grayscale + Frozen layers"
   ]
  },
  {
   "cell_type": "code",
   "execution_count": null,
   "metadata": {},
   "outputs": [],
   "source": [
    "# Recreate model instance\n",
    "\n",
    "\n",
    "# Restore the weights\n",
    "model.load_weights('GC weights\\Frozen\\mod1b-gs\\mod1b_gs_frozen.h5')\n",
    "\n",
    "\n",
    "\n"
   ]
  }
 ],
 "metadata": {
  "kernelspec": {
   "display_name": "Python 3",
   "language": "python",
   "name": "python3"
  },
  "language_info": {
   "codemirror_mode": {
    "name": "ipython",
    "version": 3
   },
   "file_extension": ".py",
   "mimetype": "text/x-python",
   "name": "python",
   "nbconvert_exporter": "python",
   "pygments_lexer": "ipython3",
   "version": "3.8.10"
  }
 },
 "nbformat": 4,
 "nbformat_minor": 2
}
