{
 "cells": [
  {
   "cell_type": "markdown",
   "metadata": {},
   "source": [
    "# Test set evaluation of Gender image classification models\n",
    "\n",
    "## UTKFace dataset"
   ]
  },
  {
   "cell_type": "code",
   "execution_count": 1,
   "metadata": {},
   "outputs": [],
   "source": [
    "import pandas as pd\n",
    "import numpy as np\n",
    "import io\n",
    "import os\n",
    "import tensorflow as tf\n",
    "from tensorflow import keras\n",
    "from sklearn.metrics import classification_report,confusion_matrix"
   ]
  },
  {
   "cell_type": "code",
   "execution_count": 2,
   "metadata": {},
   "outputs": [],
   "source": [
    "from keras import backend as K\n",
    "K.clear_session()"
   ]
  },
  {
   "cell_type": "code",
   "execution_count": 3,
   "metadata": {},
   "outputs": [],
   "source": [
    "# UTKFace image directories (unsorted and sorted)\n",
    "TEST_DIR = 'UTKFace/'\n",
    "TEST_SORT_DIR = 'UTKFace sorted/'"
   ]
  },
  {
   "cell_type": "code",
   "execution_count": 4,
   "metadata": {},
   "outputs": [],
   "source": [
    "# labels - age, gender, ethnicity\n",
    "image_paths = []\n",
    "age_labels = []\n",
    "gender_labels = []\n",
    "\n",
    "for filename in os.listdir(TEST_DIR):\n",
    "    image_path = os.path.join(TEST_DIR, filename)\n",
    "    temp = filename.split('_')\n",
    "    age = int(temp[0])\n",
    "    gender = int(temp[1])\n",
    "    image_paths.append(image_path)\n",
    "    age_labels.append(age)\n",
    "    gender_labels.append(gender)"
   ]
  },
  {
   "cell_type": "code",
   "execution_count": 5,
   "metadata": {},
   "outputs": [],
   "source": [
    "# Move UTKFace images into unique directories based on their gender label\n",
    "# Need only to run once to organize\n",
    "# m_dir = 'UTKFace sorted/male'\n",
    "# f_dir = 'UTKFace sorted/female'\n",
    "\n",
    "# import shutil\n",
    "\n",
    "# for filename in os.listdir(TEST_DIR):\n",
    "#     image_path = os.path.join(TEST_DIR, filename)\n",
    "#     temp = filename.split('_')\n",
    "#     gender = int(temp[1])\n",
    "#     if gender == 0:                                # Move to Male folder\n",
    "#         new_path = os.path.join(m_dir, filename)\n",
    "#         shutil.move(image_path, new_path)\n",
    "#     elif gender == 1:                              # Move to Female folder\n",
    "#         new_path = os.path.join(f_dir, filename)\n",
    "#         shutil.move(image_path, new_path)"
   ]
  },
  {
   "cell_type": "markdown",
   "metadata": {},
   "source": [
    "## Load images"
   ]
  },
  {
   "cell_type": "markdown",
   "metadata": {},
   "source": [
    "### a. image_dataset_from_directory\n",
    "### image_size = (224, 224)"
   ]
  },
  {
   "cell_type": "code",
   "execution_count": 6,
   "metadata": {},
   "outputs": [
    {
     "name": "stdout",
     "output_type": "stream",
     "text": [
      "Found 23708 files belonging to 2 classes.\n",
      "Found 23708 files belonging to 2 classes.\n"
     ]
    }
   ],
   "source": [
    "# Grayscale test set images\n",
    "test_ds_gs = tf.keras.utils.image_dataset_from_directory(TEST_SORT_DIR, \n",
    "                                                         seed=123, \n",
    "                                                         batch_size=128,\n",
    "                                                         image_size=(224, 224),\n",
    "                                                         color_mode=\"grayscale\")\n",
    "# RGB test set images\n",
    "test_ds_rgb = tf.keras.utils.image_dataset_from_directory(TEST_SORT_DIR, \n",
    "                                                         seed=123, \n",
    "                                                         batch_size=128,\n",
    "                                                         image_size=(224, 224),\n",
    "                                                         color_mode=\"rgb\")"
   ]
  },
  {
   "cell_type": "code",
   "execution_count": 7,
   "metadata": {},
   "outputs": [],
   "source": [
    "test_labels = np.concatenate([y for x, y in test_ds_gs], axis=0)"
   ]
  },
  {
   "cell_type": "code",
   "execution_count": 8,
   "metadata": {},
   "outputs": [],
   "source": [
    "# Prediction function\n",
    "def reload_predict(model, dataset):\n",
    "    # Reload model from saved .h5 files\n",
    "    model.summary()\n",
    "    test_ds = dataset\n",
    "    # make predictions on test set images\n",
    "    test_predictions = model.predict(test_ds)\n",
    "    # Evaluate the model\n",
    "    test_predictions_rounded_labels=np.argmax(test_predictions, axis=1)\n",
    "    print(classification_report(test_labels, test_predictions_rounded_labels))  "
   ]
  },
  {
   "cell_type": "code",
   "execution_count": 9,
   "metadata": {},
   "outputs": [
    {
     "data": {
      "text/plain": [
       "array([1, 1, 0, ..., 1, 0, 0], dtype=int32)"
      ]
     },
     "execution_count": 9,
     "metadata": {},
     "output_type": "execute_result"
    }
   ],
   "source": [
    "test_labels"
   ]
  },
  {
   "cell_type": "markdown",
   "metadata": {},
   "source": [
    "## Evaluate models"
   ]
  },
  {
   "cell_type": "markdown",
   "metadata": {},
   "source": [
    "### VGG-16 Model 1a-gs: Grayscale + Frozen Layers"
   ]
  },
  {
   "cell_type": "code",
   "execution_count": null,
   "metadata": {},
   "outputs": [],
   "source": []
  },
  {
   "cell_type": "markdown",
   "metadata": {},
   "source": [
    "### VGG-16 Model 1b-gs: Grayscale + Frozen layers"
   ]
  },
  {
   "cell_type": "code",
   "execution_count": 10,
   "metadata": {},
   "outputs": [],
   "source": [
    "# Recreate model instance\n",
    "M1b_gs = keras.models.load_model('GC weights/Frozen/mod1b-gs/mod1b_gs_frozen.h5')"
   ]
  },
  {
   "cell_type": "code",
   "execution_count": 11,
   "metadata": {
    "scrolled": false
   },
   "outputs": [
    {
     "name": "stdout",
     "output_type": "stream",
     "text": [
      "Model: \"model\"\n",
      "_________________________________________________________________\n",
      " Layer (type)                Output Shape              Param #   \n",
      "=================================================================\n",
      " input_2 (InputLayer)        [(None, 224, 224, 1)]     0         \n",
      "                                                                 \n",
      " conv2d (Conv2D)             (None, 224, 224, 3)       30        \n",
      "                                                                 \n",
      " vgg16 (Functional)          (None, 1000)              138357544 \n",
      "                                                                 \n",
      " dense (Dense)               (None, 2)                 2002      \n",
      "                                                                 \n",
      "=================================================================\n",
      "Total params: 138,359,576\n",
      "Trainable params: 2,032\n",
      "Non-trainable params: 138,357,544\n",
      "_________________________________________________________________\n",
      "186/186 [==============================] - 32s 138ms/step\n",
      "              precision    recall  f1-score   support\n",
      "\n",
      "           0       0.48      0.37      0.42     11317\n",
      "           1       0.52      0.63      0.57     12391\n",
      "\n",
      "    accuracy                           0.51     23708\n",
      "   macro avg       0.50      0.50      0.49     23708\n",
      "weighted avg       0.50      0.51      0.50     23708\n",
      "\n"
     ]
    }
   ],
   "source": [
    "reload_predict(M1b_gs, test_ds_gs)"
   ]
  },
  {
   "cell_type": "markdown",
   "metadata": {},
   "source": [
    "### VGG-16 Model 1a-RGB: RGB + Frozen layers"
   ]
  },
  {
   "cell_type": "code",
   "execution_count": null,
   "metadata": {},
   "outputs": [],
   "source": []
  },
  {
   "cell_type": "markdown",
   "metadata": {},
   "source": [
    "### VGG-16 Model 1b-RGB: RGB + Frozen layers"
   ]
  },
  {
   "cell_type": "code",
   "execution_count": 12,
   "metadata": {},
   "outputs": [],
   "source": [
    "# Recreate model instance\n",
    "M1b_rgb = keras.models.load_model('GC weights/Frozen/mod1b-RGB/mod1b_RGB_frozen.h5')"
   ]
  },
  {
   "cell_type": "code",
   "execution_count": 13,
   "metadata": {},
   "outputs": [
    {
     "name": "stdout",
     "output_type": "stream",
     "text": [
      "Model: \"model\"\n",
      "_________________________________________________________________\n",
      " Layer (type)                Output Shape              Param #   \n",
      "=================================================================\n",
      " input_2 (InputLayer)        [(None, 224, 224, 3)]     0         \n",
      "                                                                 \n",
      " vgg16 (Functional)          (None, 1000)              138357544 \n",
      "                                                                 \n",
      " dense (Dense)               (None, 2)                 2002      \n",
      "                                                                 \n",
      "=================================================================\n",
      "Total params: 138,359,546\n",
      "Trainable params: 2,002\n",
      "Non-trainable params: 138,357,544\n",
      "_________________________________________________________________\n",
      "186/186 [==============================] - 28s 149ms/step\n",
      "              precision    recall  f1-score   support\n",
      "\n",
      "           0       0.47      0.43      0.45     11317\n",
      "           1       0.52      0.57      0.54     12391\n",
      "\n",
      "    accuracy                           0.50     23708\n",
      "   macro avg       0.50      0.50      0.50     23708\n",
      "weighted avg       0.50      0.50      0.50     23708\n",
      "\n"
     ]
    }
   ],
   "source": [
    "reload_predict(M1b_rgb, test_ds_rgb)"
   ]
  },
  {
   "cell_type": "markdown",
   "metadata": {},
   "source": [
    "### Basic CNN Model 2a-RGB: RGB + No frozen Layers"
   ]
  },
  {
   "cell_type": "code",
   "execution_count": null,
   "metadata": {},
   "outputs": [],
   "source": []
  },
  {
   "cell_type": "markdown",
   "metadata": {},
   "source": [
    "### Basic CNN Model 2b-RGB: RGB + No frozen Layers"
   ]
  },
  {
   "cell_type": "code",
   "execution_count": 14,
   "metadata": {},
   "outputs": [],
   "source": [
    "# Recreate model instance\n",
    "M2b_rgb = keras.models.load_model('GC weights/Unfrozen/mod2b-RGB/mod2b_RGB.h5')"
   ]
  },
  {
   "cell_type": "code",
   "execution_count": 15,
   "metadata": {},
   "outputs": [
    {
     "name": "stdout",
     "output_type": "stream",
     "text": [
      "Model: \"model\"\n",
      "__________________________________________________________________________________________________\n",
      " Layer (type)                   Output Shape         Param #     Connected to                     \n",
      "==================================================================================================\n",
      " input_2 (InputLayer)           [(None, 224, 224, 3  0           []                               \n",
      "                                )]                                                                \n",
      "                                                                                                  \n",
      " rescaling_1 (Rescaling)        (None, 224, 224, 3)  0           ['input_2[0][0]']                \n",
      "                                                                                                  \n",
      " conv2d (Conv2D)                (None, 112, 112, 32  896         ['rescaling_1[0][0]']            \n",
      "                                )                                                                 \n",
      "                                                                                                  \n",
      " batch_normalization (BatchNorm  (None, 112, 112, 32  128        ['conv2d[0][0]']                 \n",
      " alization)                     )                                                                 \n",
      "                                                                                                  \n",
      " activation (Activation)        (None, 112, 112, 32  0           ['batch_normalization[0][0]']    \n",
      "                                )                                                                 \n",
      "                                                                                                  \n",
      " conv2d_1 (Conv2D)              (None, 112, 112, 64  18496       ['activation[0][0]']             \n",
      "                                )                                                                 \n",
      "                                                                                                  \n",
      " batch_normalization_1 (BatchNo  (None, 112, 112, 64  256        ['conv2d_1[0][0]']               \n",
      " rmalization)                   )                                                                 \n",
      "                                                                                                  \n",
      " activation_1 (Activation)      (None, 112, 112, 64  0           ['batch_normalization_1[0][0]']  \n",
      "                                )                                                                 \n",
      "                                                                                                  \n",
      " activation_2 (Activation)      (None, 112, 112, 64  0           ['activation_1[0][0]']           \n",
      "                                )                                                                 \n",
      "                                                                                                  \n",
      " separable_conv2d (SeparableCon  (None, 112, 112, 12  8896       ['activation_2[0][0]']           \n",
      " v2D)                           8)                                                                \n",
      "                                                                                                  \n",
      " batch_normalization_2 (BatchNo  (None, 112, 112, 12  512        ['separable_conv2d[0][0]']       \n",
      " rmalization)                   8)                                                                \n",
      "                                                                                                  \n",
      " activation_3 (Activation)      (None, 112, 112, 12  0           ['batch_normalization_2[0][0]']  \n",
      "                                8)                                                                \n",
      "                                                                                                  \n",
      " separable_conv2d_1 (SeparableC  (None, 112, 112, 12  17664      ['activation_3[0][0]']           \n",
      " onv2D)                         8)                                                                \n",
      "                                                                                                  \n",
      " batch_normalization_3 (BatchNo  (None, 112, 112, 12  512        ['separable_conv2d_1[0][0]']     \n",
      " rmalization)                   8)                                                                \n",
      "                                                                                                  \n",
      " max_pooling2d (MaxPooling2D)   (None, 56, 56, 128)  0           ['batch_normalization_3[0][0]']  \n",
      "                                                                                                  \n",
      " conv2d_2 (Conv2D)              (None, 56, 56, 128)  8320        ['activation_1[0][0]']           \n",
      "                                                                                                  \n",
      " add (Add)                      (None, 56, 56, 128)  0           ['max_pooling2d[0][0]',          \n",
      "                                                                  'conv2d_2[0][0]']               \n",
      "                                                                                                  \n",
      " activation_4 (Activation)      (None, 56, 56, 128)  0           ['add[0][0]']                    \n",
      "                                                                                                  \n",
      " separable_conv2d_2 (SeparableC  (None, 56, 56, 256)  34176      ['activation_4[0][0]']           \n",
      " onv2D)                                                                                           \n",
      "                                                                                                  \n",
      " batch_normalization_4 (BatchNo  (None, 56, 56, 256)  1024       ['separable_conv2d_2[0][0]']     \n",
      " rmalization)                                                                                     \n",
      "                                                                                                  \n",
      " activation_5 (Activation)      (None, 56, 56, 256)  0           ['batch_normalization_4[0][0]']  \n",
      "                                                                                                  \n",
      " separable_conv2d_3 (SeparableC  (None, 56, 56, 256)  68096      ['activation_5[0][0]']           \n",
      " onv2D)                                                                                           \n",
      "                                                                                                  \n",
      " batch_normalization_5 (BatchNo  (None, 56, 56, 256)  1024       ['separable_conv2d_3[0][0]']     \n",
      " rmalization)                                                                                     \n",
      "                                                                                                  \n",
      " max_pooling2d_1 (MaxPooling2D)  (None, 28, 28, 256)  0          ['batch_normalization_5[0][0]']  \n",
      "                                                                                                  \n",
      " conv2d_3 (Conv2D)              (None, 28, 28, 256)  33024       ['add[0][0]']                    \n",
      "                                                                                                  \n",
      " add_1 (Add)                    (None, 28, 28, 256)  0           ['max_pooling2d_1[0][0]',        \n",
      "                                                                  'conv2d_3[0][0]']               \n",
      "                                                                                                  \n",
      " activation_6 (Activation)      (None, 28, 28, 256)  0           ['add_1[0][0]']                  \n",
      "                                                                                                  \n",
      " separable_conv2d_4 (SeparableC  (None, 28, 28, 512)  133888     ['activation_6[0][0]']           \n",
      " onv2D)                                                                                           \n",
      "                                                                                                  \n",
      " batch_normalization_6 (BatchNo  (None, 28, 28, 512)  2048       ['separable_conv2d_4[0][0]']     \n",
      " rmalization)                                                                                     \n",
      "                                                                                                  \n",
      " activation_7 (Activation)      (None, 28, 28, 512)  0           ['batch_normalization_6[0][0]']  \n"
     ]
    },
    {
     "name": "stdout",
     "output_type": "stream",
     "text": [
      "                                                                                                  \n",
      " separable_conv2d_5 (SeparableC  (None, 28, 28, 512)  267264     ['activation_7[0][0]']           \n",
      " onv2D)                                                                                           \n",
      "                                                                                                  \n",
      " batch_normalization_7 (BatchNo  (None, 28, 28, 512)  2048       ['separable_conv2d_5[0][0]']     \n",
      " rmalization)                                                                                     \n",
      "                                                                                                  \n",
      " max_pooling2d_2 (MaxPooling2D)  (None, 14, 14, 512)  0          ['batch_normalization_7[0][0]']  \n",
      "                                                                                                  \n",
      " conv2d_4 (Conv2D)              (None, 14, 14, 512)  131584      ['add_1[0][0]']                  \n",
      "                                                                                                  \n",
      " add_2 (Add)                    (None, 14, 14, 512)  0           ['max_pooling2d_2[0][0]',        \n",
      "                                                                  'conv2d_4[0][0]']               \n",
      "                                                                                                  \n",
      " activation_8 (Activation)      (None, 14, 14, 512)  0           ['add_2[0][0]']                  \n",
      "                                                                                                  \n",
      " separable_conv2d_6 (SeparableC  (None, 14, 14, 728)  378072     ['activation_8[0][0]']           \n",
      " onv2D)                                                                                           \n",
      "                                                                                                  \n",
      " batch_normalization_8 (BatchNo  (None, 14, 14, 728)  2912       ['separable_conv2d_6[0][0]']     \n",
      " rmalization)                                                                                     \n",
      "                                                                                                  \n",
      " activation_9 (Activation)      (None, 14, 14, 728)  0           ['batch_normalization_8[0][0]']  \n",
      "                                                                                                  \n",
      " separable_conv2d_7 (SeparableC  (None, 14, 14, 728)  537264     ['activation_9[0][0]']           \n",
      " onv2D)                                                                                           \n",
      "                                                                                                  \n",
      " batch_normalization_9 (BatchNo  (None, 14, 14, 728)  2912       ['separable_conv2d_7[0][0]']     \n",
      " rmalization)                                                                                     \n",
      "                                                                                                  \n",
      " max_pooling2d_3 (MaxPooling2D)  (None, 7, 7, 728)   0           ['batch_normalization_9[0][0]']  \n",
      "                                                                                                  \n",
      " conv2d_5 (Conv2D)              (None, 7, 7, 728)    373464      ['add_2[0][0]']                  \n",
      "                                                                                                  \n",
      " add_3 (Add)                    (None, 7, 7, 728)    0           ['max_pooling2d_3[0][0]',        \n",
      "                                                                  'conv2d_5[0][0]']               \n",
      "                                                                                                  \n",
      " separable_conv2d_8 (SeparableC  (None, 7, 7, 1024)  753048      ['add_3[0][0]']                  \n",
      " onv2D)                                                                                           \n",
      "                                                                                                  \n",
      " batch_normalization_10 (BatchN  (None, 7, 7, 1024)  4096        ['separable_conv2d_8[0][0]']     \n",
      " ormalization)                                                                                    \n",
      "                                                                                                  \n",
      " activation_10 (Activation)     (None, 7, 7, 1024)   0           ['batch_normalization_10[0][0]'] \n",
      "                                                                                                  \n",
      " global_average_pooling2d (Glob  (None, 1024)        0           ['activation_10[0][0]']          \n",
      " alAveragePooling2D)                                                                              \n",
      "                                                                                                  \n",
      " dropout (Dropout)              (None, 1024)         0           ['global_average_pooling2d[0][0]'\n",
      "                                                                 ]                                \n",
      "                                                                                                  \n",
      " dense (Dense)                  (None, 2)            2050        ['dropout[0][0]']                \n",
      "                                                                                                  \n",
      "==================================================================================================\n",
      "Total params: 2,783,674\n",
      "Trainable params: 2,774,938\n",
      "Non-trainable params: 8,736\n",
      "__________________________________________________________________________________________________\n",
      "186/186 [==============================] - 16s 85ms/step\n",
      "              precision    recall  f1-score   support\n",
      "\n",
      "           0       0.48      0.32      0.38     11317\n",
      "           1       0.52      0.68      0.59     12391\n",
      "\n",
      "    accuracy                           0.51     23708\n",
      "   macro avg       0.50      0.50      0.49     23708\n",
      "weighted avg       0.50      0.51      0.49     23708\n",
      "\n"
     ]
    }
   ],
   "source": [
    "reload_predict(M2b_rgb, test_ds_rgb)"
   ]
  },
  {
   "cell_type": "markdown",
   "metadata": {},
   "source": [
    "### Basic CNN Model 2a-gs: Grayscale + No frozen Layers"
   ]
  },
  {
   "cell_type": "code",
   "execution_count": null,
   "metadata": {},
   "outputs": [],
   "source": []
  },
  {
   "cell_type": "markdown",
   "metadata": {},
   "source": [
    "### Basic CNN Model 2b-gs: Grayscale + No frozen Layers"
   ]
  },
  {
   "cell_type": "code",
   "execution_count": 16,
   "metadata": {},
   "outputs": [],
   "source": [
    "# Recreate model instance\n",
    "M2b_gs = keras.models.load_model('GC weights/Unfrozen/mod2b-gs/mod2b_gs.h5')"
   ]
  },
  {
   "cell_type": "code",
   "execution_count": 17,
   "metadata": {},
   "outputs": [
    {
     "name": "stdout",
     "output_type": "stream",
     "text": [
      "Model: \"model\"\n",
      "__________________________________________________________________________________________________\n",
      " Layer (type)                   Output Shape         Param #     Connected to                     \n",
      "==================================================================================================\n",
      " input_2 (InputLayer)           [(None, 224, 224, 1  0           []                               \n",
      "                                )]                                                                \n",
      "                                                                                                  \n",
      " conv2d (Conv2D)                (None, 224, 224, 3)  30          ['input_2[0][0]']                \n",
      "                                                                                                  \n",
      " conv2d_1 (Conv2D)              (None, 112, 112, 32  896         ['conv2d[0][0]']                 \n",
      "                                )                                                                 \n",
      "                                                                                                  \n",
      " batch_normalization (BatchNorm  (None, 112, 112, 32  128        ['conv2d_1[0][0]']               \n",
      " alization)                     )                                                                 \n",
      "                                                                                                  \n",
      " activation (Activation)        (None, 112, 112, 32  0           ['batch_normalization[0][0]']    \n",
      "                                )                                                                 \n",
      "                                                                                                  \n",
      " conv2d_2 (Conv2D)              (None, 112, 112, 64  18496       ['activation[0][0]']             \n",
      "                                )                                                                 \n",
      "                                                                                                  \n",
      " batch_normalization_1 (BatchNo  (None, 112, 112, 64  256        ['conv2d_2[0][0]']               \n",
      " rmalization)                   )                                                                 \n",
      "                                                                                                  \n",
      " activation_1 (Activation)      (None, 112, 112, 64  0           ['batch_normalization_1[0][0]']  \n",
      "                                )                                                                 \n",
      "                                                                                                  \n",
      " activation_2 (Activation)      (None, 112, 112, 64  0           ['activation_1[0][0]']           \n",
      "                                )                                                                 \n",
      "                                                                                                  \n",
      " separable_conv2d (SeparableCon  (None, 112, 112, 12  8896       ['activation_2[0][0]']           \n",
      " v2D)                           8)                                                                \n",
      "                                                                                                  \n",
      " batch_normalization_2 (BatchNo  (None, 112, 112, 12  512        ['separable_conv2d[0][0]']       \n",
      " rmalization)                   8)                                                                \n",
      "                                                                                                  \n",
      " activation_3 (Activation)      (None, 112, 112, 12  0           ['batch_normalization_2[0][0]']  \n",
      "                                8)                                                                \n",
      "                                                                                                  \n",
      " separable_conv2d_1 (SeparableC  (None, 112, 112, 12  17664      ['activation_3[0][0]']           \n",
      " onv2D)                         8)                                                                \n",
      "                                                                                                  \n",
      " batch_normalization_3 (BatchNo  (None, 112, 112, 12  512        ['separable_conv2d_1[0][0]']     \n",
      " rmalization)                   8)                                                                \n",
      "                                                                                                  \n",
      " max_pooling2d (MaxPooling2D)   (None, 56, 56, 128)  0           ['batch_normalization_3[0][0]']  \n",
      "                                                                                                  \n",
      " conv2d_3 (Conv2D)              (None, 56, 56, 128)  8320        ['activation_1[0][0]']           \n",
      "                                                                                                  \n",
      " add (Add)                      (None, 56, 56, 128)  0           ['max_pooling2d[0][0]',          \n",
      "                                                                  'conv2d_3[0][0]']               \n",
      "                                                                                                  \n",
      " activation_4 (Activation)      (None, 56, 56, 128)  0           ['add[0][0]']                    \n",
      "                                                                                                  \n",
      " separable_conv2d_2 (SeparableC  (None, 56, 56, 256)  34176      ['activation_4[0][0]']           \n",
      " onv2D)                                                                                           \n",
      "                                                                                                  \n",
      " batch_normalization_4 (BatchNo  (None, 56, 56, 256)  1024       ['separable_conv2d_2[0][0]']     \n",
      " rmalization)                                                                                     \n",
      "                                                                                                  \n",
      " activation_5 (Activation)      (None, 56, 56, 256)  0           ['batch_normalization_4[0][0]']  \n",
      "                                                                                                  \n",
      " separable_conv2d_3 (SeparableC  (None, 56, 56, 256)  68096      ['activation_5[0][0]']           \n",
      " onv2D)                                                                                           \n",
      "                                                                                                  \n",
      " batch_normalization_5 (BatchNo  (None, 56, 56, 256)  1024       ['separable_conv2d_3[0][0]']     \n",
      " rmalization)                                                                                     \n",
      "                                                                                                  \n",
      " max_pooling2d_1 (MaxPooling2D)  (None, 28, 28, 256)  0          ['batch_normalization_5[0][0]']  \n",
      "                                                                                                  \n",
      " conv2d_4 (Conv2D)              (None, 28, 28, 256)  33024       ['add[0][0]']                    \n",
      "                                                                                                  \n",
      " add_1 (Add)                    (None, 28, 28, 256)  0           ['max_pooling2d_1[0][0]',        \n",
      "                                                                  'conv2d_4[0][0]']               \n",
      "                                                                                                  \n",
      " activation_6 (Activation)      (None, 28, 28, 256)  0           ['add_1[0][0]']                  \n",
      "                                                                                                  \n",
      " separable_conv2d_4 (SeparableC  (None, 28, 28, 512)  133888     ['activation_6[0][0]']           \n",
      " onv2D)                                                                                           \n",
      "                                                                                                  \n",
      " batch_normalization_6 (BatchNo  (None, 28, 28, 512)  2048       ['separable_conv2d_4[0][0]']     \n",
      " rmalization)                                                                                     \n",
      "                                                                                                  \n",
      " activation_7 (Activation)      (None, 28, 28, 512)  0           ['batch_normalization_6[0][0]']  \n"
     ]
    },
    {
     "name": "stdout",
     "output_type": "stream",
     "text": [
      "                                                                                                  \n",
      " separable_conv2d_5 (SeparableC  (None, 28, 28, 512)  267264     ['activation_7[0][0]']           \n",
      " onv2D)                                                                                           \n",
      "                                                                                                  \n",
      " batch_normalization_7 (BatchNo  (None, 28, 28, 512)  2048       ['separable_conv2d_5[0][0]']     \n",
      " rmalization)                                                                                     \n",
      "                                                                                                  \n",
      " max_pooling2d_2 (MaxPooling2D)  (None, 14, 14, 512)  0          ['batch_normalization_7[0][0]']  \n",
      "                                                                                                  \n",
      " conv2d_5 (Conv2D)              (None, 14, 14, 512)  131584      ['add_1[0][0]']                  \n",
      "                                                                                                  \n",
      " add_2 (Add)                    (None, 14, 14, 512)  0           ['max_pooling2d_2[0][0]',        \n",
      "                                                                  'conv2d_5[0][0]']               \n",
      "                                                                                                  \n",
      " activation_8 (Activation)      (None, 14, 14, 512)  0           ['add_2[0][0]']                  \n",
      "                                                                                                  \n",
      " separable_conv2d_6 (SeparableC  (None, 14, 14, 728)  378072     ['activation_8[0][0]']           \n",
      " onv2D)                                                                                           \n",
      "                                                                                                  \n",
      " batch_normalization_8 (BatchNo  (None, 14, 14, 728)  2912       ['separable_conv2d_6[0][0]']     \n",
      " rmalization)                                                                                     \n",
      "                                                                                                  \n",
      " activation_9 (Activation)      (None, 14, 14, 728)  0           ['batch_normalization_8[0][0]']  \n",
      "                                                                                                  \n",
      " separable_conv2d_7 (SeparableC  (None, 14, 14, 728)  537264     ['activation_9[0][0]']           \n",
      " onv2D)                                                                                           \n",
      "                                                                                                  \n",
      " batch_normalization_9 (BatchNo  (None, 14, 14, 728)  2912       ['separable_conv2d_7[0][0]']     \n",
      " rmalization)                                                                                     \n",
      "                                                                                                  \n",
      " max_pooling2d_3 (MaxPooling2D)  (None, 7, 7, 728)   0           ['batch_normalization_9[0][0]']  \n",
      "                                                                                                  \n",
      " conv2d_6 (Conv2D)              (None, 7, 7, 728)    373464      ['add_2[0][0]']                  \n",
      "                                                                                                  \n",
      " add_3 (Add)                    (None, 7, 7, 728)    0           ['max_pooling2d_3[0][0]',        \n",
      "                                                                  'conv2d_6[0][0]']               \n",
      "                                                                                                  \n",
      " separable_conv2d_8 (SeparableC  (None, 7, 7, 1024)  753048      ['add_3[0][0]']                  \n",
      " onv2D)                                                                                           \n",
      "                                                                                                  \n",
      " batch_normalization_10 (BatchN  (None, 7, 7, 1024)  4096        ['separable_conv2d_8[0][0]']     \n",
      " ormalization)                                                                                    \n",
      "                                                                                                  \n",
      " activation_10 (Activation)     (None, 7, 7, 1024)   0           ['batch_normalization_10[0][0]'] \n",
      "                                                                                                  \n",
      " global_average_pooling2d (Glob  (None, 1024)        0           ['activation_10[0][0]']          \n",
      " alAveragePooling2D)                                                                              \n",
      "                                                                                                  \n",
      " dropout (Dropout)              (None, 1024)         0           ['global_average_pooling2d[0][0]'\n",
      "                                                                 ]                                \n",
      "                                                                                                  \n",
      " dense (Dense)                  (None, 2)            2050        ['dropout[0][0]']                \n",
      "                                                                                                  \n",
      "==================================================================================================\n",
      "Total params: 2,783,704\n",
      "Trainable params: 2,774,968\n",
      "Non-trainable params: 8,736\n",
      "__________________________________________________________________________________________________\n",
      "186/186 [==============================] - 13s 67ms/step\n",
      "              precision    recall  f1-score   support\n",
      "\n",
      "           0       0.48      0.34      0.40     11317\n",
      "           1       0.52      0.65      0.58     12391\n",
      "\n",
      "    accuracy                           0.51     23708\n",
      "   macro avg       0.50      0.50      0.49     23708\n",
      "weighted avg       0.50      0.51      0.49     23708\n",
      "\n"
     ]
    }
   ],
   "source": [
    "reload_predict(M2b_gs, test_ds_gs)"
   ]
  },
  {
   "cell_type": "markdown",
   "metadata": {},
   "source": [
    "### DenseNet201 Model 3a-RGB: RGB + Frozen Layers"
   ]
  },
  {
   "cell_type": "code",
   "execution_count": null,
   "metadata": {},
   "outputs": [],
   "source": []
  },
  {
   "cell_type": "markdown",
   "metadata": {},
   "source": [
    "### DenseNet201 Model 3b-RGB: RGB + Frozen Layers"
   ]
  },
  {
   "cell_type": "code",
   "execution_count": 18,
   "metadata": {},
   "outputs": [],
   "source": [
    "# Recreate model instance\n",
    "M3b_rgb = keras.models.load_model('GC weights/Frozen/mod3b-RGB/mod3b_RGB_frozen.h5')"
   ]
  },
  {
   "cell_type": "code",
   "execution_count": 19,
   "metadata": {},
   "outputs": [
    {
     "name": "stdout",
     "output_type": "stream",
     "text": [
      "Model: \"model\"\n",
      "_________________________________________________________________\n",
      " Layer (type)                Output Shape              Param #   \n",
      "=================================================================\n",
      " input_2 (InputLayer)        [(None, 224, 224, 3)]     0         \n",
      "                                                                 \n",
      " densenet201 (Functional)    (None, 1000)              20242984  \n",
      "                                                                 \n",
      " dense (Dense)               (None, 2)                 2002      \n",
      "                                                                 \n",
      "=================================================================\n",
      "Total params: 20,244,986\n",
      "Trainable params: 2,002\n",
      "Non-trainable params: 20,242,984\n",
      "_________________________________________________________________\n",
      "186/186 [==============================] - 41s 210ms/step\n",
      "              precision    recall  f1-score   support\n",
      "\n",
      "           0       0.48      0.30      0.37     11317\n",
      "           1       0.52      0.70      0.60     12391\n",
      "\n",
      "    accuracy                           0.51     23708\n",
      "   macro avg       0.50      0.50      0.48     23708\n",
      "weighted avg       0.50      0.51      0.49     23708\n",
      "\n"
     ]
    }
   ],
   "source": [
    "reload_predict(M3b_rgb, test_ds_rgb)"
   ]
  },
  {
   "cell_type": "markdown",
   "metadata": {},
   "source": [
    "### DenseNet201 Model 3a-gs: Grayscale + Frozen Layers"
   ]
  },
  {
   "cell_type": "code",
   "execution_count": null,
   "metadata": {},
   "outputs": [],
   "source": []
  },
  {
   "cell_type": "markdown",
   "metadata": {},
   "source": [
    "### DenseNet201 Model 3b-gs: Grayscale + Frozen Layers"
   ]
  },
  {
   "cell_type": "code",
   "execution_count": 20,
   "metadata": {},
   "outputs": [],
   "source": [
    "# Recreate model instance\n",
    "M3b_gs = keras.models.load_model('GC weights/Frozen/mod3b-gs/mod3b_gs_frozen.h5')"
   ]
  },
  {
   "cell_type": "code",
   "execution_count": 21,
   "metadata": {},
   "outputs": [
    {
     "name": "stdout",
     "output_type": "stream",
     "text": [
      "Model: \"model\"\n",
      "_________________________________________________________________\n",
      " Layer (type)                Output Shape              Param #   \n",
      "=================================================================\n",
      " input_2 (InputLayer)        [(None, 224, 224, 1)]     0         \n",
      "                                                                 \n",
      " conv2d (Conv2D)             (None, 224, 224, 3)       30        \n",
      "                                                                 \n",
      " densenet201 (Functional)    (None, 1000)              20242984  \n",
      "                                                                 \n",
      " dense (Dense)               (None, 2)                 2002      \n",
      "                                                                 \n",
      "=================================================================\n",
      "Total params: 20,245,016\n",
      "Trainable params: 2,032\n",
      "Non-trainable params: 20,242,984\n",
      "_________________________________________________________________\n",
      "186/186 [==============================] - 38s 194ms/step\n",
      "              precision    recall  f1-score   support\n",
      "\n",
      "           0       0.49      0.16      0.24     11317\n",
      "           1       0.53      0.85      0.65     12391\n",
      "\n",
      "    accuracy                           0.52     23708\n",
      "   macro avg       0.51      0.50      0.44     23708\n",
      "weighted avg       0.51      0.52      0.45     23708\n",
      "\n"
     ]
    }
   ],
   "source": [
    "reload_predict(M3b_gs, test_ds_gs)"
   ]
  }
 ],
 "metadata": {
  "kernelspec": {
   "display_name": "Python 3",
   "language": "python",
   "name": "python3"
  },
  "language_info": {
   "codemirror_mode": {
    "name": "ipython",
    "version": 3
   },
   "file_extension": ".py",
   "mimetype": "text/x-python",
   "name": "python",
   "nbconvert_exporter": "python",
   "pygments_lexer": "ipython3",
   "version": "3.8.10"
  }
 },
 "nbformat": 4,
 "nbformat_minor": 2
}
