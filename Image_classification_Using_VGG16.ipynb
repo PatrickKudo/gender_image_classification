{
  "cells": [
    {
      "cell_type": "code",
      "execution_count": 1,
      "metadata": {
        "colab": {
          "base_uri": "https://localhost:8080/"
        },
        "id": "-oEx-QDmMBZe",
        "outputId": "1fd7e384-da15-41cf-a24d-1fc19d21e13e"
      },
      "outputs": [
        {
          "output_type": "stream",
          "name": "stdout",
          "text": [
            "Mounted at /content/gdrive\n"
          ]
        }
      ],
      "source": [
        "## Basic imports \n",
        "import pandas as pd\n",
        "import numpy as np\n",
        "import io\n",
        "import os\n",
        "import tensorflow as tf\n",
        "from tensorflow import keras\n",
        "from keras import layers\n",
        "from google.colab import drive\n",
        "drive.mount('/content/gdrive')\n"
      ]
    },
    {
      "cell_type": "code",
      "execution_count": 2,
      "metadata": {
        "colab": {
          "base_uri": "https://localhost:8080/"
        },
        "id": "mCsmHzTdMOBV",
        "outputId": "73dfc57e-be81-478d-a271-b33d8e1fd825"
      },
      "outputs": [
        {
          "output_type": "stream",
          "name": "stdout",
          "text": [
            "Found 47035 images belonging to 2 classes.\n",
            "Found 5822 images belonging to 2 classes.\n",
            "Found 5821 images belonging to 2 classes.\n"
          ]
        },
        {
          "output_type": "execute_result",
          "data": {
            "text/plain": [
              "(98, 76, 3)"
            ]
          },
          "metadata": {},
          "execution_count": 2
        }
      ],
      "source": [
        "import keras \n",
        "from tensorflow.keras.preprocessing.image import ImageDataGenerator\n",
        "\n",
        "root_dir = \"/content/gdrive/My Drive/\"\n",
        "base_dir = root_dir + 'gender_images/'\n",
        "\n",
        "os.chdir(base_dir)\n",
        "os.listdir()\n",
        "\n",
        "path_training = 'Training/'\n",
        "path_validation = 'Validation/'\n",
        "\n",
        "pic_path = path_training+'female/131435.jpg.jpg'\n",
        "image_size = (90, 90)\n",
        "batch_size = 128\n",
        "\n",
        "target_size = (224, 224)\n",
        "input_shape=(224, 224, 3)\n",
        "min_lr = 0.0001\n",
        "steps_per_epoch=256\n",
        "validation_steps=256\n",
        "epochs=8\n",
        "\n",
        "\n",
        "train_datagen = ImageDataGenerator(rescale = 1./255,\n",
        "      rotation_range=25,\n",
        "      width_shift_range=0.2,\n",
        "      height_shift_range=0.2,\n",
        "      shear_range=0.2,\n",
        "      zoom_range=0.2,\n",
        "      horizontal_flip=True,\n",
        "      fill_mode='nearest')\n",
        "\n",
        "\n",
        "\n",
        "\n",
        "\n",
        "\n",
        "\n",
        "\n",
        "validation_datagen = ImageDataGenerator(rescale=1./255,\n",
        "                                        rotation_range=25,\n",
        "      width_shift_range=0.2,\n",
        "      height_shift_range=0.2,\n",
        "      shear_range=0.2,\n",
        "      zoom_range=0.2,\n",
        "      horizontal_flip=True,\n",
        "      fill_mode='nearest',\n",
        "      validation_split=0.5)\n",
        "\n",
        "\n",
        "\n",
        "\n",
        "train_generator = train_datagen.flow_from_directory(\n",
        "    path_training,\n",
        "    seed=10,\n",
        "    target_size=(98,76),\n",
        "    batch_size=batch_size,\n",
        "    classes=['female','male'],\n",
        "    shuffle=True\n",
        ")\n",
        "\n",
        "\n",
        "validation_generator = validation_datagen.flow_from_directory(\n",
        "    path_validation,\n",
        "    seed=10,\n",
        "    target_size=(98,76),\n",
        "    batch_size=batch_size,\n",
        "    classes=['female','male'],\n",
        "    shuffle=True,\n",
        "    subset = 'training'\n",
        ")\n",
        "\n",
        "test_generator = validation_datagen.flow_from_directory(\n",
        "    path_validation,\n",
        "    seed=10,\n",
        "    target_size=(98,76),\n",
        "    batch_size=batch_size,\n",
        "    classes=['female','male'],\n",
        "    shuffle=True,\n",
        "    subset='validation'\n",
        ")\n",
        "\n",
        "\n",
        "\n",
        "from matplotlib.image import imread\n",
        "\n",
        "takeapeak = imread(pic_path)\n",
        "takeapeak.shape\n",
        "\n",
        "\n",
        "\n",
        "\n",
        "\n"
      ]
    },
    {
      "cell_type": "code",
      "execution_count": null,
      "metadata": {
        "id": "x_myYjO3yCUy"
      },
      "outputs": [],
      "source": []
    },
    {
      "cell_type": "code",
      "execution_count": null,
      "metadata": {
        "id": "vnYkB6B-xQE9"
      },
      "outputs": [],
      "source": [
        "\n",
        "##print(\"Image size of train \",train_generator[0].shape)"
      ]
    },
    {
      "cell_type": "code",
      "execution_count": 3,
      "metadata": {
        "colab": {
          "base_uri": "https://localhost:8080/"
        },
        "id": "oo5UUnQOYoGZ",
        "outputId": "d0801ffc-b1e1-4c7a-dd26-3f05bd2441f0"
      },
      "outputs": [
        {
          "output_type": "stream",
          "name": "stdout",
          "text": [
            "Downloading data from https://storage.googleapis.com/tensorflow/keras-applications/vgg16/vgg16_weights_tf_dim_ordering_tf_kernels_notop.h5\n",
            "58889256/58889256 [==============================] - 3s 0us/step\n",
            "<keras.engine.input_layer.InputLayer object at 0x7f85b409b790> False\n",
            "<keras.layers.convolutional.conv2d.Conv2D object at 0x7f85b5d69410> False\n",
            "<keras.layers.convolutional.conv2d.Conv2D object at 0x7f85b5d69810> False\n",
            "<keras.layers.pooling.max_pooling2d.MaxPooling2D object at 0x7f85b5d51e50> False\n",
            "<keras.layers.convolutional.conv2d.Conv2D object at 0x7f85b5429e10> False\n",
            "<keras.layers.convolutional.conv2d.Conv2D object at 0x7f85b542f8d0> False\n",
            "<keras.layers.pooling.max_pooling2d.MaxPooling2D object at 0x7f85b4089cd0> False\n",
            "<keras.layers.convolutional.conv2d.Conv2D object at 0x7f85b543c3d0> False\n",
            "<keras.layers.convolutional.conv2d.Conv2D object at 0x7f85b543f910> False\n",
            "<keras.layers.convolutional.conv2d.Conv2D object at 0x7f85b53c6890> False\n",
            "<keras.layers.pooling.max_pooling2d.MaxPooling2D object at 0x7f85b543cb90> False\n",
            "<keras.layers.convolutional.conv2d.Conv2D object at 0x7f85b53d6090> False\n",
            "<keras.layers.convolutional.conv2d.Conv2D object at 0x7f85b53dce10> False\n",
            "<keras.layers.convolutional.conv2d.Conv2D object at 0x7f85b53dc050> False\n",
            "<keras.layers.pooling.max_pooling2d.MaxPooling2D object at 0x7f85b53dc490> False\n",
            "<keras.layers.convolutional.conv2d.Conv2D object at 0x7f85b543cc10> True\n",
            "<keras.layers.convolutional.conv2d.Conv2D object at 0x7f85b53ea290> True\n",
            "<keras.layers.convolutional.conv2d.Conv2D object at 0x7f85b53eaf10> True\n",
            "<keras.layers.pooling.max_pooling2d.MaxPooling2D object at 0x7f85b53cdb10> True\n",
            "<keras.layers.pooling.global_average_pooling2d.GlobalAveragePooling2D object at 0x7f85b53fe290> True\n",
            "Model: \"sequential\"\n",
            "_________________________________________________________________\n",
            " Layer (type)                Output Shape              Param #   \n",
            "=================================================================\n",
            " vgg16 (Functional)          (None, 512)               14714688  \n",
            "                                                                 \n",
            " dense (Dense)               (None, 128)               65664     \n",
            "                                                                 \n",
            " batch_normalization (BatchN  (None, 128)              512       \n",
            " ormalization)                                                   \n",
            "                                                                 \n",
            " dense_1 (Dense)             (None, 2)                 258       \n",
            "                                                                 \n",
            "=================================================================\n",
            "Total params: 14,781,122\n",
            "Trainable params: 7,145,602\n",
            "Non-trainable params: 7,635,520\n",
            "_________________________________________________________________\n"
          ]
        },
        {
          "output_type": "stream",
          "name": "stderr",
          "text": [
            "/usr/local/lib/python3.7/dist-packages/keras/optimizers/optimizer_v2/adam.py:110: UserWarning: The `lr` argument is deprecated, use `learning_rate` instead.\n",
            "  super(Adam, self).__init__(name, **kwargs)\n"
          ]
        }
      ],
      "source": [
        "from keras.optimizers.optimizer_v2.rmsprop import RMSProp\n",
        "## Build the VGG model \n",
        "\n",
        "from tensorflow.keras.callbacks import ReduceLROnPlateau, ModelCheckpoint, EarlyStopping\n",
        "from tensorflow.keras.models import Sequential,load_model,save_model\n",
        "from tensorflow.keras.layers import Dense,Conv2D,Flatten,MaxPooling2D\n",
        "from keras.layers import BatchNormalization\n",
        "from keras.optimizers import Adam\n",
        "from keras.optimizers import RMSprop\n",
        "##from tensorflow.keras.optimizers import RMSprop\n",
        "from keras.models import Model\n",
        "from tensorflow import keras\n",
        "from tensorflow.keras import layers\n",
        "from keras.layers import Flatten, Dense\n",
        "from keras.applications import VGG16\n",
        "\n",
        "\n",
        "vgg=keras.applications.VGG16(include_top=False, pooling='avg', weights='imagenet',\n",
        "input_shape=(98,76, 3))\n",
        "\n",
        "\n",
        "# Freeze the layers except the last 5\n",
        "for layer in vgg.layers[:-5]:\n",
        " layer.trainable = False# Check the trainable status of the individual layers\n",
        "for layer in vgg.layers:\n",
        " print(layer, layer.trainable)\n",
        "\n",
        " # Create the model\n",
        "model = Sequential()# Add the VGG16 convolutional base model\n",
        "model.add(vgg)\n",
        " \n",
        "# Add new layers\n",
        "model.add(layers.Dense(128, activation='relu'))\n",
        "model.add(layers.BatchNormalization())\n",
        "model.add(layers.Dense(2, activation='sigmoid'))\n",
        "\n",
        "## Compile and Summary\n",
        "model.compile(optimizer=Adam(lr=0.00001), loss='binary_crossentropy', metrics=['accuracy'])\n",
        "##model.compile(optimizer=RMSprop(lr=0.0001), loss='binary_crossentropy', metrics='accuracy')\n",
        "model.summary()"
      ]
    },
    {
      "cell_type": "code",
      "execution_count": 4,
      "metadata": {
        "colab": {
          "base_uri": "https://localhost:8080/"
        },
        "id": "O2gpkNqUYpL8",
        "outputId": "a869c6e8-31c7-4940-cc7c-24f2e1941a72"
      },
      "outputs": [
        {
          "output_type": "stream",
          "name": "stderr",
          "text": [
            "/usr/local/lib/python3.7/dist-packages/ipykernel_launcher.py:20: UserWarning: `Model.fit_generator` is deprecated and will be removed in a future version. Please use `Model.fit`, which supports generators.\n"
          ]
        },
        {
          "output_type": "stream",
          "name": "stdout",
          "text": [
            "Epoch 1/20\n",
            "5/5 [==============================] - ETA: 0s - loss: 0.7991 - accuracy: 0.5000  \n",
            "Epoch 1: val_accuracy improved from -inf to 0.50223, saving model to best_tune_model.h5\n",
            "5/5 [==============================] - 3286s 800s/step - loss: 0.7991 - accuracy: 0.5000 - val_loss: 0.8660 - val_accuracy: 0.5022\n",
            "Epoch 2/20\n",
            "5/5 [==============================] - ETA: 0s - loss: 0.6835 - accuracy: 0.6422  \n",
            "Epoch 2: val_accuracy did not improve from 0.50223\n",
            "5/5 [==============================] - 821s 185s/step - loss: 0.6835 - accuracy: 0.6422 - val_loss: 0.8322 - val_accuracy: 0.5019\n",
            "Epoch 3/20\n",
            "5/5 [==============================] - ETA: 0s - loss: 0.6207 - accuracy: 0.7109  \n",
            "Epoch 3: val_accuracy improved from 0.50223 to 0.50275, saving model to best_tune_model.h5\n",
            "5/5 [==============================] - 816s 184s/step - loss: 0.6207 - accuracy: 0.7109 - val_loss: 0.8053 - val_accuracy: 0.5027\n",
            "Epoch 4/20\n",
            "5/5 [==============================] - ETA: 0s - loss: 0.5692 - accuracy: 0.7375  \n",
            "Epoch 4: val_accuracy improved from 0.50275 to 0.50601, saving model to best_tune_model.h5\n",
            "5/5 [==============================] - 814s 183s/step - loss: 0.5692 - accuracy: 0.7375 - val_loss: 0.7824 - val_accuracy: 0.5060\n",
            "Epoch 5/20\n",
            "5/5 [==============================] - ETA: 0s - loss: 0.5320 - accuracy: 0.7531  \n",
            "Epoch 5: val_accuracy improved from 0.50601 to 0.51082, saving model to best_tune_model.h5\n",
            "5/5 [==============================] - 806s 182s/step - loss: 0.5320 - accuracy: 0.7531 - val_loss: 0.7629 - val_accuracy: 0.5108\n",
            "Epoch 6/20\n",
            "5/5 [==============================] - ETA: 0s - loss: 0.5306 - accuracy: 0.7563  \n",
            "Epoch 6: val_accuracy improved from 0.51082 to 0.51821, saving model to best_tune_model.h5\n",
            "5/5 [==============================] - 797s 179s/step - loss: 0.5306 - accuracy: 0.7563 - val_loss: 0.7464 - val_accuracy: 0.5182\n",
            "Epoch 7/20\n",
            "5/5 [==============================] - ETA: 0s - loss: 0.4977 - accuracy: 0.7797  \n",
            "Epoch 7: val_accuracy improved from 0.51821 to 0.53126, saving model to best_tune_model.h5\n",
            "5/5 [==============================] - 798s 181s/step - loss: 0.4977 - accuracy: 0.7797 - val_loss: 0.7296 - val_accuracy: 0.5313\n",
            "Epoch 8/20\n",
            "5/5 [==============================] - ETA: 0s - loss: 0.4662 - accuracy: 0.8047  \n",
            "Epoch 8: val_accuracy improved from 0.53126 to 0.54792, saving model to best_tune_model.h5\n",
            "5/5 [==============================] - 795s 180s/step - loss: 0.4662 - accuracy: 0.8047 - val_loss: 0.7134 - val_accuracy: 0.5479\n",
            "Epoch 9/20\n",
            "5/5 [==============================] - ETA: 0s - loss: 0.4584 - accuracy: 0.8000  \n",
            "Epoch 9: val_accuracy improved from 0.54792 to 0.57506, saving model to best_tune_model.h5\n",
            "5/5 [==============================] - 800s 180s/step - loss: 0.4584 - accuracy: 0.8000 - val_loss: 0.6971 - val_accuracy: 0.5751\n",
            "Epoch 10/20\n",
            "5/5 [==============================] - ETA: 0s - loss: 0.4563 - accuracy: 0.7906  \n",
            "Epoch 10: val_accuracy improved from 0.57506 to 0.59894, saving model to best_tune_model.h5\n",
            "5/5 [==============================] - 790s 178s/step - loss: 0.4563 - accuracy: 0.7906 - val_loss: 0.6851 - val_accuracy: 0.5989\n",
            "Epoch 11/20\n",
            "5/5 [==============================] - ETA: 0s - loss: 0.4441 - accuracy: 0.8109 \n",
            "Epoch 11: val_accuracy improved from 0.59894 to 0.63174, saving model to best_tune_model.h5\n",
            "5/5 [==============================] - 785s 176s/step - loss: 0.4441 - accuracy: 0.8109 - val_loss: 0.6689 - val_accuracy: 0.6317\n",
            "Epoch 12/20\n",
            "5/5 [==============================] - ETA: 0s - loss: 0.4161 - accuracy: 0.8359  \n",
            "Epoch 12: val_accuracy improved from 0.63174 to 0.66386, saving model to best_tune_model.h5\n",
            "5/5 [==============================] - 783s 178s/step - loss: 0.4161 - accuracy: 0.8359 - val_loss: 0.6560 - val_accuracy: 0.6639\n",
            "Epoch 13/20\n",
            "5/5 [==============================] - ETA: 0s - loss: 0.4196 - accuracy: 0.8281 \n",
            "Epoch 13: val_accuracy improved from 0.66386 to 0.69890, saving model to best_tune_model.h5\n",
            "5/5 [==============================] - 778s 177s/step - loss: 0.4196 - accuracy: 0.8281 - val_loss: 0.6393 - val_accuracy: 0.6989\n",
            "Epoch 14/20\n",
            "5/5 [==============================] - ETA: 0s - loss: 0.4027 - accuracy: 0.8406 \n",
            "Epoch 14: val_accuracy improved from 0.69890 to 0.72243, saving model to best_tune_model.h5\n",
            "5/5 [==============================] - 770s 174s/step - loss: 0.4027 - accuracy: 0.8406 - val_loss: 0.6284 - val_accuracy: 0.7224\n",
            "Epoch 15/20\n",
            "5/5 [==============================] - ETA: 0s - loss: 0.3975 - accuracy: 0.8391 \n",
            "Epoch 15: val_accuracy improved from 0.72243 to 0.74407, saving model to best_tune_model.h5\n",
            "5/5 [==============================] - 745s 168s/step - loss: 0.3975 - accuracy: 0.8391 - val_loss: 0.6163 - val_accuracy: 0.7441\n",
            "Epoch 16/20\n",
            "5/5 [==============================] - ETA: 0s - loss: 0.3788 - accuracy: 0.8375 \n",
            "Epoch 16: val_accuracy improved from 0.74407 to 0.76125, saving model to best_tune_model.h5\n",
            "5/5 [==============================] - 713s 162s/step - loss: 0.3788 - accuracy: 0.8375 - val_loss: 0.6035 - val_accuracy: 0.7613\n",
            "Epoch 17/20\n",
            "5/5 [==============================] - ETA: 0s - loss: 0.3672 - accuracy: 0.8469 \n",
            "Epoch 17: val_accuracy improved from 0.76125 to 0.76640, saving model to best_tune_model.h5\n",
            "5/5 [==============================] - 732s 165s/step - loss: 0.3672 - accuracy: 0.8469 - val_loss: 0.5935 - val_accuracy: 0.7664\n",
            "Epoch 18/20\n",
            "5/5 [==============================] - ETA: 0s - loss: 0.3751 - accuracy: 0.8516 \n",
            "Epoch 18: val_accuracy improved from 0.76640 to 0.77705, saving model to best_tune_model.h5\n",
            "5/5 [==============================] - 723s 165s/step - loss: 0.3751 - accuracy: 0.8516 - val_loss: 0.5827 - val_accuracy: 0.7771\n",
            "Epoch 19/20\n",
            "5/5 [==============================] - ETA: 0s - loss: 0.3837 - accuracy: 0.8359 \n",
            "Epoch 19: val_accuracy improved from 0.77705 to 0.78289, saving model to best_tune_model.h5\n",
            "5/5 [==============================] - 723s 165s/step - loss: 0.3837 - accuracy: 0.8359 - val_loss: 0.5747 - val_accuracy: 0.7829\n",
            "Epoch 20/20\n",
            "5/5 [==============================] - ETA: 0s - loss: 0.3478 - accuracy: 0.8672 \n",
            "Epoch 20: val_accuracy improved from 0.78289 to 0.79217, saving model to best_tune_model.h5\n",
            "5/5 [==============================] - 708s 162s/step - loss: 0.3478 - accuracy: 0.8672 - val_loss: 0.5621 - val_accuracy: 0.7922\n",
            "loss\n",
            "accuracy\n",
            "val_loss\n",
            "val_accuracy\n"
          ]
        }
      ],
      "source": [
        "\n",
        "\n",
        "\n",
        "model_with_tuning = 'best_tune_model.h5'\n",
        "checkpoint_callback = ModelCheckpoint(model_with_tuning,\n",
        "                                     monitor='val_accuracy',\n",
        "                                      verbose=2,\n",
        "                                     save_best_only=True,mode='max')\n",
        "\"\"\"\n",
        "hist = model.fit(train_generator,\n",
        "                   steps_per_epoch=len(train_generator) // 64,\n",
        "                   epochs=3,\n",
        "                   validation_data=validation_generator,\n",
        "                   validation_steps=len(validation_generator)// 64,\n",
        "                   verbose=1,\n",
        "                   callbacks=[checkpoint_callback])\n",
        "                   \"\"\"\n",
        "\n",
        "hist =  model.fit_generator(generator=train_generator,\n",
        "                           validation_data=validation_generator,\n",
        "                           steps_per_epoch=5,\n",
        "                           epochs=20,\n",
        "                           callbacks=checkpoint_callback)                  \n",
        "for key in hist.history:\n",
        " print(key)\n",
        "\n",
        "\n"
      ]
    },
    {
      "cell_type": "code",
      "execution_count": 5,
      "metadata": {
        "colab": {
          "base_uri": "https://localhost:8080/",
          "height": 390
        },
        "id": "qYbkwlKMT8xY",
        "outputId": "1263f018-0cc3-48aa-bcaa-c1180f9a269b"
      },
      "outputs": [
        {
          "output_type": "display_data",
          "data": {
            "text/plain": [
              "<Figure size 1080x432 with 2 Axes>"
            ],
            "image/png": "[encoded data removed]"
          },
          "metadata": {
            "needs_background": "light"
          }
        }
      ],
      "source": [
        "import matplotlib.pyplot as plt\n",
        "## plot the chart \n",
        "plt.figure(figsize=(15,6))\n",
        "\n",
        "plt.subplot(1,2,1)\n",
        "plt.plot(hist.epoch,hist.history['accuracy'],label = 'Training')\n",
        "plt.plot(hist.epoch,hist.history['val_accuracy'],label = 'validation')\n",
        "\n",
        "plt.title(\"Accuracy\")\n",
        "plt.legend()\n",
        "\n",
        "plt.subplot(1,2,2)\n",
        "plt.plot(hist.epoch,hist.history['loss'],label = 'Training')\n",
        "plt.plot(hist.epoch,hist.history['val_loss'],label = 'validation')\n",
        "\n",
        "plt.title(\"Loss\")\n",
        "plt.legend()\n",
        "plt.show()\n",
        "\n"
      ]
    },
    {
      "cell_type": "code",
      "execution_count": null,
      "metadata": {
        "id": "UZP2EfiwGcZq"
      },
      "outputs": [],
      "source": []
    }
  ],
  "metadata": {
    "colab": {
      "provenance": []
    },
    "kernelspec": {
      "display_name": "Python 3",
      "name": "python3"
    },
    "language_info": {
      "name": "python"
    }
  },
  "nbformat": 4,
  "nbformat_minor": 0
}