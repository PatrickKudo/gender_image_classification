{
  "cells": [
    {
      "cell_type": "code",
      "execution_count": 2,
      "metadata": {
        "colab": {
          "base_uri": "https://localhost:8080/"
        },
        "id": "-oEx-QDmMBZe",
        "outputId": "f4519617-0e41-41e7-cb16-a67dd6d418b3"
      },
      "outputs": [
        {
          "output_type": "stream",
          "name": "stdout",
          "text": [
            "Mounted at /content/gdrive\n"
          ]
        }
      ],
      "source": [
        "## Basic imports \n",
        "import pandas as pd\n",
        "import numpy as np\n",
        "import io\n",
        "import os\n",
        "import tensorflow as tf\n",
        "from tensorflow import keras\n",
        "from keras import layers\n",
        "from google.colab import drive\n",
        "drive.mount('/content/gdrive')\n"
      ]
    },
    {
      "cell_type": "code",
      "execution_count": 3,
      "metadata": {
        "colab": {
          "base_uri": "https://localhost:8080/"
        },
        "id": "mCsmHzTdMOBV",
        "outputId": "3947037d-2f04-4a63-92e0-e6ec4b4e1f50"
      },
      "outputs": [
        {
          "output_type": "stream",
          "name": "stdout",
          "text": [
            "Found 47035 images belonging to 2 classes.\n",
            "Found 5822 images belonging to 2 classes.\n",
            "Found 5821 images belonging to 2 classes.\n"
          ]
        },
        {
          "output_type": "execute_result",
          "data": {
            "text/plain": [
              "(98, 76, 3)"
            ]
          },
          "metadata": {},
          "execution_count": 3
        }
      ],
      "source": [
        "import keras \n",
        "from tensorflow.keras.preprocessing.image import ImageDataGenerator\n",
        "\n",
        "root_dir = \"/content/gdrive/My Drive/\"\n",
        "base_dir = root_dir + 'gender_images/'\n",
        "\n",
        "os.chdir(base_dir)\n",
        "os.listdir()\n",
        "\n",
        "path_training = 'Training/'\n",
        "path_validation = 'Validation/'\n",
        "\n",
        "pic_path = path_training+'female/131435.jpg.jpg'\n",
        "image_size = (90, 90)\n",
        "batch_size = 128\n",
        "\n",
        "target_size = (224, 224)\n",
        "input_shape=(224, 224, 3)\n",
        "min_lr = 0.0001\n",
        "steps_per_epoch=256\n",
        "validation_steps=256\n",
        "epochs=8\n",
        "\n",
        "\n",
        "train_datagen = ImageDataGenerator(rescale = 1./255,\n",
        "      rotation_range=25,\n",
        "      width_shift_range=0.2,\n",
        "      height_shift_range=0.2,\n",
        "      shear_range=0.2,\n",
        "      zoom_range=0.2,\n",
        "      horizontal_flip=True,\n",
        "      fill_mode='nearest')\n",
        "\n",
        "\n",
        "\n",
        "\n",
        "\n",
        "\n",
        "\n",
        "\n",
        "validation_datagen = ImageDataGenerator(rescale=1./255,\n",
        "                                        rotation_range=25,\n",
        "      width_shift_range=0.2,\n",
        "      height_shift_range=0.2,\n",
        "      shear_range=0.2,\n",
        "      zoom_range=0.2,\n",
        "      horizontal_flip=True,\n",
        "      fill_mode='nearest',\n",
        "      validation_split=0.5)\n",
        "\n",
        "\n",
        "\n",
        "\n",
        "train_generator = train_datagen.flow_from_directory(\n",
        "    path_training,\n",
        "    seed=10,\n",
        "    target_size=(98,76),\n",
        "    batch_size=batch_size,\n",
        "    classes=['female','male'],\n",
        "    shuffle=True\n",
        ")\n",
        "\n",
        "\n",
        "validation_generator = validation_datagen.flow_from_directory(\n",
        "    path_validation,\n",
        "    seed=10,\n",
        "    target_size=(98,76),\n",
        "    batch_size=batch_size,\n",
        "    classes=['female','male'],\n",
        "    shuffle=True,\n",
        "    subset = 'training'\n",
        ")\n",
        "\n",
        "test_generator = validation_datagen.flow_from_directory(\n",
        "    path_validation,\n",
        "    seed=10,\n",
        "    target_size=(98,76),\n",
        "    batch_size=batch_size,\n",
        "    classes=['female','male'],\n",
        "    shuffle=True,\n",
        "    subset='validation'\n",
        ")\n",
        "\n",
        "\n",
        "\n",
        "from matplotlib.image import imread\n",
        "\n",
        "takeapeak = imread(pic_path)\n",
        "takeapeak.shape\n",
        "\n",
        "\n",
        "\n",
        "\n",
        "\n"
      ]
    },
    {
      "cell_type": "code",
      "execution_count": null,
      "metadata": {
        "id": "x_myYjO3yCUy"
      },
      "outputs": [],
      "source": []
    },
    {
      "cell_type": "code",
      "execution_count": null,
      "metadata": {
        "id": "vnYkB6B-xQE9"
      },
      "outputs": [],
      "source": [
        "\n",
        "##print(\"Image size of train \",train_generator[0].shape)"
      ]
    },
    {
      "cell_type": "code",
      "execution_count": 4,
      "metadata": {
        "colab": {
          "base_uri": "https://localhost:8080/"
        },
        "id": "oo5UUnQOYoGZ",
        "outputId": "2edc7a07-5f40-469a-89a8-42d404f5beb4"
      },
      "outputs": [
        {
          "output_type": "stream",
          "name": "stdout",
          "text": [
            "Downloading data from https://storage.googleapis.com/tensorflow/keras-applications/vgg16/vgg16_weights_tf_dim_ordering_tf_kernels_notop.h5\n",
            "58889256/58889256 [==============================] - 2s 0us/step\n",
            "<keras.engine.input_layer.InputLayer object at 0x7ff46c259890> False\n",
            "<keras.layers.convolutional.conv2d.Conv2D object at 0x7ff46df27090> False\n",
            "<keras.layers.convolutional.conv2d.Conv2D object at 0x7ff46df27310> False\n",
            "<keras.layers.pooling.max_pooling2d.MaxPooling2D object at 0x7ff4dcdd1bd0> False\n",
            "<keras.layers.convolutional.conv2d.Conv2D object at 0x7ff46c15b950> False\n",
            "<keras.layers.convolutional.conv2d.Conv2D object at 0x7ff46c163dd0> False\n",
            "<keras.layers.pooling.max_pooling2d.MaxPooling2D object at 0x7ff46c163090> False\n",
            "<keras.layers.convolutional.conv2d.Conv2D object at 0x7ff46c0ec950> False\n",
            "<keras.layers.convolutional.conv2d.Conv2D object at 0x7ff46c0f7550> False\n",
            "<keras.layers.convolutional.conv2d.Conv2D object at 0x7ff46c0f77d0> False\n",
            "<keras.layers.pooling.max_pooling2d.MaxPooling2D object at 0x7ff46c0f7a50> False\n",
            "<keras.layers.convolutional.conv2d.Conv2D object at 0x7ff46c101bd0> False\n",
            "<keras.layers.convolutional.conv2d.Conv2D object at 0x7ff46c10bc90> False\n",
            "<keras.layers.convolutional.conv2d.Conv2D object at 0x7ff46c10b550> False\n",
            "<keras.layers.pooling.max_pooling2d.MaxPooling2D object at 0x7ff46c10b750> False\n",
            "<keras.layers.convolutional.conv2d.Conv2D object at 0x7ff46c115890> True\n",
            "<keras.layers.convolutional.conv2d.Conv2D object at 0x7ff46c11aed0> True\n",
            "<keras.layers.convolutional.conv2d.Conv2D object at 0x7ff46c11a490> True\n",
            "<keras.layers.pooling.max_pooling2d.MaxPooling2D object at 0x7ff46c11a1d0> True\n",
            "<keras.layers.pooling.global_average_pooling2d.GlobalAveragePooling2D object at 0x7ff46c0b2890> True\n",
            "Model: \"sequential\"\n",
            "_________________________________________________________________\n",
            " Layer (type)                Output Shape              Param #   \n",
            "=================================================================\n",
            " vgg16 (Functional)          (None, 512)               14714688  \n",
            "                                                                 \n",
            " dense (Dense)               (None, 128)               65664     \n",
            "                                                                 \n",
            " batch_normalization (BatchN  (None, 128)              512       \n",
            " ormalization)                                                   \n",
            "                                                                 \n",
            " dense_1 (Dense)             (None, 2)                 258       \n",
            "                                                                 \n",
            "=================================================================\n",
            "Total params: 14,781,122\n",
            "Trainable params: 7,145,602\n",
            "Non-trainable params: 7,635,520\n",
            "_________________________________________________________________\n"
          ]
        },
        {
          "output_type": "stream",
          "name": "stderr",
          "text": [
            "/usr/local/lib/python3.7/dist-packages/keras/optimizers/optimizer_v2/rmsprop.py:135: UserWarning: The `lr` argument is deprecated, use `learning_rate` instead.\n",
            "  super(RMSprop, self).__init__(name, **kwargs)\n"
          ]
        }
      ],
      "source": [
        "from keras.optimizers.optimizer_v2.rmsprop import RMSProp\n",
        "## Build the VGG model \n",
        "\n",
        "from tensorflow.keras.callbacks import ReduceLROnPlateau, ModelCheckpoint, EarlyStopping\n",
        "from tensorflow.keras.models import Sequential,load_model,save_model\n",
        "from tensorflow.keras.layers import Dense,Conv2D,Flatten,MaxPooling2D\n",
        "from keras.layers import BatchNormalization\n",
        "from keras.optimizers import Adam\n",
        "from keras.optimizers import RMSprop\n",
        "##from tensorflow.keras.optimizers import RMSprop\n",
        "from keras.models import Model\n",
        "from tensorflow import keras\n",
        "from tensorflow.keras import layers\n",
        "from keras.layers import Flatten, Dense\n",
        "from keras.applications import VGG16\n",
        "\n",
        "\n",
        "vgg=keras.applications.VGG16(include_top=False, pooling='avg', weights='imagenet',\n",
        "input_shape=(98,76, 3))\n",
        "\n",
        "\n",
        "# Freeze the layers except the last 5\n",
        "for layer in vgg.layers[:-5]:\n",
        " layer.trainable = False# Check the trainable status of the individual layers\n",
        "for layer in vgg.layers:\n",
        " print(layer, layer.trainable)\n",
        "\n",
        " # Create the model\n",
        "model = Sequential()# Add the VGG16 convolutional base model\n",
        "model.add(vgg)\n",
        " \n",
        "# Add new layers\n",
        "model.add(layers.Dense(128, activation='relu'))\n",
        "model.add(layers.BatchNormalization())\n",
        "model.add(layers.Dense(2, activation='sigmoid'))\n",
        "\n",
        "## Compile and Summary\n",
        "##model.compile(optimizer=Adam(lr=0.00001), loss='binary_crossentropy', metrics=['accuracy'])\n",
        "model.compile(optimizer=RMSprop(lr=0.0001), loss='binary_crossentropy', metrics='accuracy')\n",
        "model.summary()"
      ]
    },
    {
      "cell_type": "code",
      "execution_count": 5,
      "metadata": {
        "colab": {
          "base_uri": "https://localhost:8080/"
        },
        "id": "O2gpkNqUYpL8",
        "outputId": "5de8630b-9b31-46df-a849-00f722225795"
      },
      "outputs": [
        {
          "output_type": "stream",
          "name": "stderr",
          "text": [
            "/usr/local/lib/python3.7/dist-packages/ipykernel_launcher.py:20: UserWarning: `Model.fit_generator` is deprecated and will be removed in a future version. Please use `Model.fit`, which supports generators.\n"
          ]
        },
        {
          "output_type": "stream",
          "name": "stdout",
          "text": [
            "Epoch 1/20\n",
            "5/5 [==============================] - ETA: 0s - loss: 0.5599 - accuracy: 0.7406  \n",
            "Epoch 1: val_accuracy improved from -inf to 0.50275, saving model to best_tune_model.h5\n",
            "5/5 [==============================] - 3304s 806s/step - loss: 0.5599 - accuracy: 0.7406 - val_loss: 0.7952 - val_accuracy: 0.5027\n",
            "Epoch 2/20\n",
            "5/5 [==============================] - ETA: 0s - loss: 0.4128 - accuracy: 0.8188  \n",
            "Epoch 2: val_accuracy improved from 0.50275 to 0.53384, saving model to best_tune_model.h5\n",
            "5/5 [==============================] - 771s 173s/step - loss: 0.4128 - accuracy: 0.8188 - val_loss: 0.6770 - val_accuracy: 0.5338\n",
            "Epoch 3/20\n",
            "5/5 [==============================] - ETA: 0s - loss: 0.3569 - accuracy: 0.8453  \n",
            "Epoch 3: val_accuracy improved from 0.53384 to 0.68945, saving model to best_tune_model.h5\n",
            "5/5 [==============================] - 773s 174s/step - loss: 0.3569 - accuracy: 0.8453 - val_loss: 0.5247 - val_accuracy: 0.6895\n",
            "Epoch 4/20\n",
            "5/5 [==============================] - ETA: 0s - loss: 0.3136 - accuracy: 0.8719  \n",
            "Epoch 4: val_accuracy did not improve from 0.68945\n",
            "5/5 [==============================] - 762s 171s/step - loss: 0.3136 - accuracy: 0.8719 - val_loss: 0.6455 - val_accuracy: 0.5799\n",
            "Epoch 5/20\n",
            "5/5 [==============================] - ETA: 0s - loss: 0.3229 - accuracy: 0.8641  \n",
            "Epoch 5: val_accuracy did not improve from 0.68945\n",
            "5/5 [==============================] - 757s 171s/step - loss: 0.3229 - accuracy: 0.8641 - val_loss: 0.5920 - val_accuracy: 0.6055\n",
            "Epoch 6/20\n",
            "5/5 [==============================] - ETA: 0s - loss: 0.3286 - accuracy: 0.8609 \n",
            "Epoch 6: val_accuracy improved from 0.68945 to 0.70955, saving model to best_tune_model.h5\n",
            "5/5 [==============================] - 751s 169s/step - loss: 0.3286 - accuracy: 0.8609 - val_loss: 0.5098 - val_accuracy: 0.7095\n",
            "Epoch 7/20\n",
            "5/5 [==============================] - ETA: 0s - loss: 0.3167 - accuracy: 0.8703 \n",
            "Epoch 7: val_accuracy improved from 0.70955 to 0.85280, saving model to best_tune_model.h5\n",
            "5/5 [==============================] - 742s 168s/step - loss: 0.3167 - accuracy: 0.8703 - val_loss: 0.3957 - val_accuracy: 0.8528\n",
            "Epoch 8/20\n",
            "5/5 [==============================] - ETA: 0s - loss: 0.2828 - accuracy: 0.8781 \n",
            "Epoch 8: val_accuracy did not improve from 0.85280\n",
            "5/5 [==============================] - 736s 167s/step - loss: 0.2828 - accuracy: 0.8781 - val_loss: 0.5418 - val_accuracy: 0.6776\n",
            "Epoch 9/20\n",
            "5/5 [==============================] - ETA: 0s - loss: 0.2287 - accuracy: 0.9031 \n",
            "Epoch 9: val_accuracy improved from 0.85280 to 0.86242, saving model to best_tune_model.h5\n",
            "5/5 [==============================] - 733s 166s/step - loss: 0.2287 - accuracy: 0.9031 - val_loss: 0.3452 - val_accuracy: 0.8624\n",
            "Epoch 10/20\n",
            "5/5 [==============================] - ETA: 0s - loss: 0.2590 - accuracy: 0.8984 \n",
            "Epoch 10: val_accuracy improved from 0.86242 to 0.89024, saving model to best_tune_model.h5\n",
            "5/5 [==============================] - 729s 166s/step - loss: 0.2590 - accuracy: 0.8984 - val_loss: 0.3168 - val_accuracy: 0.8902\n",
            "Epoch 11/20\n",
            "5/5 [==============================] - ETA: 0s - loss: 0.2299 - accuracy: 0.9141 \n",
            "Epoch 11: val_accuracy improved from 0.89024 to 0.89832, saving model to best_tune_model.h5\n",
            "5/5 [==============================] - 733s 166s/step - loss: 0.2299 - accuracy: 0.9141 - val_loss: 0.3118 - val_accuracy: 0.8983\n",
            "Epoch 12/20\n",
            "5/5 [==============================] - ETA: 0s - loss: 0.3103 - accuracy: 0.8797 \n",
            "Epoch 12: val_accuracy did not improve from 0.89832\n",
            "5/5 [==============================] - 727s 166s/step - loss: 0.3103 - accuracy: 0.8797 - val_loss: 0.4673 - val_accuracy: 0.7460\n",
            "Epoch 13/20\n",
            "5/5 [==============================] - ETA: 0s - loss: 0.2841 - accuracy: 0.8766 \n",
            "Epoch 13: val_accuracy did not improve from 0.89832\n",
            "5/5 [==============================] - 724s 163s/step - loss: 0.2841 - accuracy: 0.8766 - val_loss: 0.3738 - val_accuracy: 0.8222\n",
            "Epoch 14/20\n",
            "5/5 [==============================] - ETA: 0s - loss: 0.2115 - accuracy: 0.9219 \n",
            "Epoch 14: val_accuracy did not improve from 0.89832\n",
            "5/5 [==============================] - 713s 163s/step - loss: 0.2115 - accuracy: 0.9219 - val_loss: 0.3891 - val_accuracy: 0.8076\n",
            "Epoch 15/20\n",
            "5/5 [==============================] - ETA: 0s - loss: 0.2451 - accuracy: 0.9031 \n",
            "Epoch 15: val_accuracy did not improve from 0.89832\n",
            "5/5 [==============================] - 730s 165s/step - loss: 0.2451 - accuracy: 0.9031 - val_loss: 0.4258 - val_accuracy: 0.7843\n",
            "Epoch 16/20\n",
            "5/5 [==============================] - ETA: 0s - loss: 0.2704 - accuracy: 0.8984 \n",
            "Epoch 16: val_accuracy improved from 0.89832 to 0.90330, saving model to best_tune_model.h5\n",
            "5/5 [==============================] - 734s 167s/step - loss: 0.2704 - accuracy: 0.8984 - val_loss: 0.2693 - val_accuracy: 0.9033\n",
            "Epoch 17/20\n",
            "5/5 [==============================] - ETA: 0s - loss: 0.2069 - accuracy: 0.9219 \n",
            "Epoch 17: val_accuracy did not improve from 0.90330\n",
            "5/5 [==============================] - 721s 165s/step - loss: 0.2069 - accuracy: 0.9219 - val_loss: 0.3581 - val_accuracy: 0.8337\n",
            "Epoch 18/20\n",
            "5/5 [==============================] - ETA: 0s - loss: 0.2556 - accuracy: 0.9000 \n",
            "Epoch 18: val_accuracy improved from 0.90330 to 0.91257, saving model to best_tune_model.h5\n",
            "5/5 [==============================] - 709s 162s/step - loss: 0.2556 - accuracy: 0.9000 - val_loss: 0.2410 - val_accuracy: 0.9126\n",
            "Epoch 19/20\n",
            "5/5 [==============================] - ETA: 0s - loss: 0.1994 - accuracy: 0.9297 \n",
            "Epoch 19: val_accuracy did not improve from 0.91257\n",
            "5/5 [==============================] - 715s 165s/step - loss: 0.1994 - accuracy: 0.9297 - val_loss: 0.2719 - val_accuracy: 0.8925\n",
            "Epoch 20/20\n",
            "5/5 [==============================] - ETA: 0s - loss: 0.2198 - accuracy: 0.9094 \n",
            "Epoch 20: val_accuracy did not improve from 0.91257\n",
            "5/5 [==============================] - 715s 163s/step - loss: 0.2198 - accuracy: 0.9094 - val_loss: 0.2411 - val_accuracy: 0.9122\n",
            "loss\n",
            "accuracy\n",
            "val_loss\n",
            "val_accuracy\n"
          ]
        }
      ],
      "source": [
        "\n",
        "\n",
        "\n",
        "model_with_tuning = 'best_tune_model.h5'\n",
        "checkpoint_callback = ModelCheckpoint(model_with_tuning,\n",
        "                                     monitor='val_accuracy',\n",
        "                                      verbose=2,\n",
        "                                     save_best_only=True,mode='max')\n",
        "\"\"\"\n",
        "hist = model.fit(train_generator,\n",
        "                   steps_per_epoch=len(train_generator) // 64,\n",
        "                   epochs=3,\n",
        "                   validation_data=validation_generator,\n",
        "                   validation_steps=len(validation_generator)// 64,\n",
        "                   verbose=1,\n",
        "                   callbacks=[checkpoint_callback])\n",
        "                   \"\"\"\n",
        "\n",
        "hist =  model.fit_generator(generator=train_generator,\n",
        "                           validation_data=validation_generator,\n",
        "                           steps_per_epoch=5,\n",
        "                           epochs=20,\n",
        "                           callbacks=checkpoint_callback)                  \n",
        "for key in hist.history:\n",
        " print(key)\n",
        "\n",
        "\n"
      ]
    },
    {
      "cell_type": "code",
      "execution_count": 6,
      "metadata": {
        "colab": {
          "base_uri": "https://localhost:8080/",
          "height": 390
        },
        "id": "qYbkwlKMT8xY",
        "outputId": "d9133af5-c187-4fca-bdff-91b1a2b99e98"
      },
      "outputs": [
        {
          "output_type": "display_data",
          "data": {
            "text/plain": [
              "<Figure size 1080x432 with 2 Axes>"
            ],
            "image/png": "[encoded data removed]"
          },
          "metadata": {
            "needs_background": "light"
          }
        }
      ],
      "source": [
        "import matplotlib.pyplot as plt\n",
        "## plot the chart \n",
        "plt.figure(figsize=(15,6))\n",
        "\n",
        "plt.subplot(1,2,1)\n",
        "plt.plot(hist.epoch,hist.history['accuracy'],label = 'Training')\n",
        "plt.plot(hist.epoch,hist.history['val_accuracy'],label = 'validation')\n",
        "\n",
        "plt.title(\"Accuracy\")\n",
        "plt.legend()\n",
        "\n",
        "plt.subplot(1,2,2)\n",
        "plt.plot(hist.epoch,hist.history['loss'],label = 'Training')\n",
        "plt.plot(hist.epoch,hist.history['val_loss'],label = 'validation')\n",
        "\n",
        "plt.title(\"Loss\")\n",
        "plt.legend()\n",
        "plt.show()\n",
        "\n"
      ]
    },
    {
      "cell_type": "code",
      "execution_count": null,
      "metadata": {
        "id": "UZP2EfiwGcZq"
      },
      "outputs": [],
      "source": []
    }
  ],
  "metadata": {
    "colab": {
      "provenance": []
    },
    "kernelspec": {
      "display_name": "Python 3",
      "name": "python3"
    },
    "language_info": {
      "name": "python"
    }
  },
  "nbformat": 4,
  "nbformat_minor": 0
}